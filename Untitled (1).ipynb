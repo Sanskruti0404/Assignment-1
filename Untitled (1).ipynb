{
 "cells": [
  {
   "cell_type": "markdown",
   "id": "74254654-1104-4a29-9c33-dac832561044",
   "metadata": {},
   "source": [
    "## Assignment 1"
   ]
  },
  {
   "cell_type": "code",
   "execution_count": 5,
   "id": "67e9211f-f3e3-4c3b-880c-5a6cca484601",
   "metadata": {},
   "outputs": [],
   "source": [
    "## Q1 Create one variable containing following type of data: (i) string (ii) list (iii) float (iv) tuple"
   ]
  },
  {
   "cell_type": "code",
   "execution_count": 1,
   "id": "67ca2b92-2f7f-4782-bcc5-f623b3229ec0",
   "metadata": {},
   "outputs": [
    {
     "data": {
      "text/plain": [
       "str"
      ]
     },
     "execution_count": 1,
     "metadata": {},
     "output_type": "execute_result"
    }
   ],
   "source": [
    "a = 'Sanskruti Giri'\n",
    "type(a)\n",
    "     "
   ]
  },
  {
   "cell_type": "code",
   "execution_count": 2,
   "id": "501f2880-004b-46ad-bb64-ee0344ae5852",
   "metadata": {},
   "outputs": [
    {
     "data": {
      "text/plain": [
       "list"
      ]
     },
     "execution_count": 2,
     "metadata": {},
     "output_type": "execute_result"
    }
   ],
   "source": [
    "l= [1,2,4,5,'This is a list',5 +6j,1.5]\n",
    "type(l)"
   ]
  },
  {
   "cell_type": "code",
   "execution_count": 3,
   "id": "8cc22f0f-bf2b-48d9-9330-69a0c73d2433",
   "metadata": {},
   "outputs": [
    {
     "data": {
      "text/plain": [
       "float"
      ]
     },
     "execution_count": 3,
     "metadata": {},
     "output_type": "execute_result"
    }
   ],
   "source": [
    "b = 3.55\n",
    "type(b)\n",
    "     "
   ]
  },
  {
   "cell_type": "code",
   "execution_count": 4,
   "id": "da5028a4-1d0e-41c0-9144-175b564b0439",
   "metadata": {},
   "outputs": [
    {
     "data": {
      "text/plain": [
       "tuple"
      ]
     },
     "execution_count": 4,
     "metadata": {},
     "output_type": "execute_result"
    }
   ],
   "source": [
    "c = (1 ,2,3,4 ,'Sanskruti')\n",
    "type(c)\n",
    "     "
   ]
  },
  {
   "cell_type": "code",
   "execution_count": 6,
   "id": "903443e7-e367-48fa-9417-568547ed0e6e",
   "metadata": {},
   "outputs": [],
   "source": [
    "##Q2. Given are some following variables containing data: (i) var1 = ‘ ‘ (ii) var2 = ‘[ DS , ML , Python]’ (iii) var3 = [ ‘DS’ , ’ML’ , ‘Python’ ] (iv) var4 = 1. What will be the data type of the above given variable."
   ]
  },
  {
   "cell_type": "code",
   "execution_count": 7,
   "id": "ea49e41b-f6e3-4489-a185-289a996b42d5",
   "metadata": {},
   "outputs": [
    {
     "data": {
      "text/plain": [
       "str"
      ]
     },
     "execution_count": 7,
     "metadata": {},
     "output_type": "execute_result"
    }
   ],
   "source": [
    "var1 = ''\n",
    "type(var1)"
   ]
  },
  {
   "cell_type": "code",
   "execution_count": 8,
   "id": "a2ef73c9-8d12-4792-bdf1-0f57216418a1",
   "metadata": {},
   "outputs": [
    {
     "data": {
      "text/plain": [
       "str"
      ]
     },
     "execution_count": 8,
     "metadata": {},
     "output_type": "execute_result"
    }
   ],
   "source": [
    "var2 = '[ DS , ML , Python]'\n",
    "type(var2)\n",
    "     \n"
   ]
  },
  {
   "cell_type": "code",
   "execution_count": 9,
   "id": "b7b164b0-a7f3-429f-a9c8-2fdf4eb0c202",
   "metadata": {},
   "outputs": [
    {
     "data": {
      "text/plain": [
       "list"
      ]
     },
     "execution_count": 9,
     "metadata": {},
     "output_type": "execute_result"
    }
   ],
   "source": [
    "var3 = [ 'DS' , 'ML' , 'Python' ]\n",
    "type(var3)"
   ]
  },
  {
   "cell_type": "code",
   "execution_count": 10,
   "id": "07de4d4c-7d7c-433a-96bb-171c506ba2b9",
   "metadata": {},
   "outputs": [
    {
     "data": {
      "text/plain": [
       "int"
      ]
     },
     "execution_count": 10,
     "metadata": {},
     "output_type": "execute_result"
    }
   ],
   "source": [
    " var4 = 1\n",
    " type(var4)\n",
    "     "
   ]
  },
  {
   "cell_type": "code",
   "execution_count": 11,
   "id": "e923e4c0-7127-4e16-a769-7a6069ce471d",
   "metadata": {},
   "outputs": [],
   "source": [
    "##Q3. Explain the use of the following operators using an example: (i) / (ii) % (iii) // (iv) **"
   ]
  },
  {
   "cell_type": "code",
   "execution_count": 12,
   "id": "67ce8cae-e32b-4801-943a-02628e73c5d6",
   "metadata": {},
   "outputs": [
    {
     "data": {
      "text/plain": [
       "2.0"
      ]
     },
     "execution_count": 12,
     "metadata": {},
     "output_type": "execute_result"
    }
   ],
   "source": [
    "10/5"
   ]
  },
  {
   "cell_type": "code",
   "execution_count": 14,
   "id": "01ce4834-35c1-4df1-9cb4-08e3bfdf0aa7",
   "metadata": {},
   "outputs": [
    {
     "data": {
      "text/plain": [
       "1"
      ]
     },
     "execution_count": 14,
     "metadata": {},
     "output_type": "execute_result"
    }
   ],
   "source": [
    "100%3"
   ]
  },
  {
   "cell_type": "code",
   "execution_count": 15,
   "id": "5635a8d3-6955-4a32-80c4-da31c52624e0",
   "metadata": {},
   "outputs": [
    {
     "data": {
      "text/plain": [
       "0"
      ]
     },
     "execution_count": 15,
     "metadata": {},
     "output_type": "execute_result"
    }
   ],
   "source": [
    "1//5"
   ]
  },
  {
   "cell_type": "code",
   "execution_count": 16,
   "id": "380d0526-9218-4903-a8ea-393ca174f48e",
   "metadata": {},
   "outputs": [
    {
     "data": {
      "text/plain": [
       "4"
      ]
     },
     "execution_count": 16,
     "metadata": {},
     "output_type": "execute_result"
    }
   ],
   "source": [
    "2**2"
   ]
  },
  {
   "cell_type": "code",
   "execution_count": 17,
   "id": "9f006919-15cf-4115-a983-f24b8a0f9ce4",
   "metadata": {},
   "outputs": [
    {
     "data": {
      "text/plain": [
       "8"
      ]
     },
     "execution_count": 17,
     "metadata": {},
     "output_type": "execute_result"
    }
   ],
   "source": [
    "2**3"
   ]
  },
  {
   "cell_type": "code",
   "execution_count": 18,
   "id": "c68582fe-a673-4ef2-bc3b-dc2802070c3c",
   "metadata": {},
   "outputs": [],
   "source": [
    "##Q4. Create a list of length 10 of your choice containing multiple types of data. Using for loop print the element and its data type."
   ]
  },
  {
   "cell_type": "code",
   "execution_count": 20,
   "id": "6a56d416-09cb-4b7b-8339-866da94dec04",
   "metadata": {},
   "outputs": [
    {
     "name": "stdout",
     "output_type": "stream",
     "text": [
      "1\n",
      "<class 'int'>\n",
      "Sanskruti\n",
      "<class 'str'>\n",
      "1.5\n",
      "<class 'float'>\n",
      "2.5454688\n",
      "<class 'float'>\n",
      "True\n",
      "<class 'bool'>\n",
      "(5+6j)\n",
      "<class 'complex'>\n",
      "7j\n",
      "<class 'complex'>\n",
      "8\n",
      "<class 'int'>\n",
      "9\n",
      "<class 'int'>\n",
      "6\n",
      "<class 'int'>\n"
     ]
    }
   ],
   "source": [
    "l1 = [ 1,'Sanskruti',1.5,2.5454688,True,5+6j,7j,8,9,6]\n",
    "for i in l1:\n",
    "  print(i)\n",
    "  v = type(i)\n",
    "  print(v)"
   ]
  },
  {
   "cell_type": "code",
   "execution_count": 21,
   "id": "ce212f2d-7828-4b1a-b346-62849d37c3ce",
   "metadata": {},
   "outputs": [],
   "source": [
    "##Q5. Using a while loop, verify if the number A is purely divisible by number B and if so then how many times it can be divisible."
   ]
  },
  {
   "cell_type": "code",
   "execution_count": 23,
   "id": "67647c15-cdb4-489a-8b7e-04d3c12d23ac",
   "metadata": {},
   "outputs": [
    {
     "name": "stdin",
     "output_type": "stream",
     "text": [
      "Enter the first number:  2\n",
      "Enter the second number:  5\n"
     ]
    },
    {
     "name": "stdout",
     "output_type": "stream",
     "text": [
      "5 does not divide 2 evenly.\n"
     ]
    }
   ],
   "source": [
    "# Taking input of two numbers\n",
    "A = int(input(\"Enter the first number: \"))\n",
    "B = int(input(\"Enter the second number: \"))\n",
    "\n",
    "count = 0 \n",
    "\n",
    "while A % B == 0:\n",
    "    A = A / B\n",
    "    count += 1\n",
    "\n",
    "if count > 0:\n",
    "    print(f\"{B} divides {A} {count} times.\")\n",
    "else:\n",
    "    print(f\"{B} does not divide {A} evenly.\")\n"
   ]
  },
  {
   "cell_type": "code",
   "execution_count": 24,
   "id": "2b256088-072c-44e5-abd6-1800f7122d8d",
   "metadata": {},
   "outputs": [],
   "source": [
    "##Q6. Create a list containing 25 int type data. Using for loop and if-else condition print if the element is divisible by 3 or not."
   ]
  },
  {
   "cell_type": "code",
   "execution_count": 25,
   "id": "aa47b670-a031-4489-84a5-7a61bfb56fbb",
   "metadata": {},
   "outputs": [
    {
     "name": "stdout",
     "output_type": "stream",
     "text": [
      "[1, 2, 3, 4, 5, 6, 7, 8, 9, 10, 11, 12, 13, 14, 15, 16, 17, 18, 19, 20, 21, 22, 23, 24, 25]\n",
      "1 Is not divisiable by 3\n",
      "2 Is not divisiable by 3\n",
      "3 Is divisibal by 3\n",
      "4 Is not divisiable by 3\n",
      "5 Is not divisiable by 3\n",
      "6 Is divisibal by 3\n",
      "7 Is not divisiable by 3\n",
      "8 Is not divisiable by 3\n",
      "9 Is divisibal by 3\n",
      "10 Is not divisiable by 3\n",
      "11 Is not divisiable by 3\n",
      "12 Is divisibal by 3\n",
      "13 Is not divisiable by 3\n",
      "14 Is not divisiable by 3\n",
      "15 Is divisibal by 3\n",
      "16 Is not divisiable by 3\n",
      "17 Is not divisiable by 3\n",
      "18 Is divisibal by 3\n",
      "19 Is not divisiable by 3\n",
      "20 Is not divisiable by 3\n",
      "21 Is divisibal by 3\n",
      "22 Is not divisiable by 3\n",
      "23 Is not divisiable by 3\n",
      "24 Is divisibal by 3\n",
      "25 Is not divisiable by 3\n"
     ]
    }
   ],
   "source": [
    "l3 = list(range(1,26)) \n",
    "print(l3)\n",
    "\n",
    "for i in l3:\n",
    "  \n",
    "  if i % 3 == 0 :\n",
    "    print(i,\"Is divisibal by 3\")\n",
    "  else:\n",
    "    print(i,\"Is not divisiable by 3\")"
   ]
  },
  {
   "cell_type": "markdown",
   "id": "8e191377-907d-432e-8e6a-2827820d97ec",
   "metadata": {},
   "source": [
    "Q7. What do you understand about mutable and immutable data types? Give examples for both showing this property.\n",
    "\n",
    "Ans. An immutable object is an object whose value cannot be changed once it is created. Any operation that appears to modify an immutable object actually creates a new object with the modified value. Examples of immutable data types in Python include integers, floats, complex numbers, strings, and tuples."
   ]
  },
  {
   "cell_type": "markdown",
   "id": "7324516e-7fa2-4b78-be3c-0e67ad086b1d",
   "metadata": {},
   "source": [
    "# Creating a tuple\n",
    "my_tuple = (1, 2, 3)\n",
    "\n",
    "# Trying to change the first element of the tuple\n",
    "my_tuple[0] = 4  # This will raise a TypeError: 'tuple' object does not support item assignment\n"
   ]
  },
  {
   "cell_type": "markdown",
   "id": "407a94b9-6ed3-4876-935f-10abefe744a0",
   "metadata": {},
   "source": [
    "A mutable object, on the other hand, is an object whose value can be changed once it is created. Examples of mutable data types in Python include lists, dictionaries, and sets.\n",
    "\n",
    "Here's an example to demonstrate the mutability of a list:"
   ]
  },
  {
   "cell_type": "code",
   "execution_count": 29,
   "id": "8b48bf56-2651-4c70-92e6-2424fd8cd8e8",
   "metadata": {},
   "outputs": [
    {
     "name": "stdout",
     "output_type": "stream",
     "text": [
      "[4, 2, 3]\n"
     ]
    }
   ],
   "source": [
    "# Creating a list\n",
    "my_list = [1, 2, 3]\n",
    "\n",
    "# Changing the first element of the list\n",
    "my_list[0] = 4\n",
    "\n",
    "print(my_list)  # Output: [4, 2, 3]\n"
   ]
  }
 ],
 "metadata": {
  "kernelspec": {
   "display_name": "Python 3 (ipykernel)",
   "language": "python",
   "name": "python3"
  },
  "language_info": {
   "codemirror_mode": {
    "name": "ipython",
    "version": 3
   },
   "file_extension": ".py",
   "mimetype": "text/x-python",
   "name": "python",
   "nbconvert_exporter": "python",
   "pygments_lexer": "ipython3",
   "version": "3.10.8"
  }
 },
 "nbformat": 4,
 "nbformat_minor": 5
}
